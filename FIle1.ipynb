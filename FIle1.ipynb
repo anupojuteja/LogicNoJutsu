{
 "cells": [
  {
   "cell_type": "code",
   "execution_count": 2,
   "id": "981d4159",
   "metadata": {},
   "outputs": [
    {
     "name": "stdout",
     "output_type": "stream",
     "text": [
      "Negative number\n"
     ]
    }
   ],
   "source": [
    "# check if a number is positive or not\n",
    "\n",
    "num = float(input(\"Enter a number: \"))\n",
    "if num > 0:\n",
    "    print(\"Positive number\")\n",
    "elif num == 0:\n",
    "    print(\"Zero\")\n",
    "else:\n",
    "    print(\"Negative number\")            \n",
    "    \n",
    "    "
   ]
  },
  {
   "cell_type": "code",
   "execution_count": null,
   "id": "15930ebb",
   "metadata": {},
   "outputs": [],
   "source": [
    "#condiitional statements\n",
    "a = 33\n",
    "b = 200\n",
    "if b > a:\n",
    "  print(\"b is greater than a\")\n",
    "  print(\"This is a conditional statement\")\n",
    "else:\n",
    "    print(\"a is greater than b\")\n",
    "    print(\"This is a conditional statement\")\n",
    "    "
   ]
  },
  {
   "cell_type": "code",
   "execution_count": null,
   "id": "b109ab65",
   "metadata": {},
   "outputs": [
    {
     "name": "stdout",
     "output_type": "stream",
     "text": [
      " hai my name is teja and am from hyd\n"
     ]
    }
   ],
   "source": [
    "# variables with f-strings\n",
    "# naming conventions for variables\n",
    "# 1. should start with a letter or underscore\n",
    "# 2. can contain letters, numbers and underscores\n",
    "# 3. cannot contain spaces\n",
    "# 4. cannot use reserved words as variable names\n",
    "# 5. case sensitive\n",
    "# 6. should be descriptive\n",
    "# 7. should not start with a number\n",
    "# 8. should not contain special characters\n",
    "# 9. should not be too long or too short\n",
    "# 10. should be in lowercase\n",
    "name = \"teja\"\n",
    "age =\"33\"\n",
    "address = \"hyd\"\n",
    "print(f\" hai my name is {name} and am from {address}\")\n",
    "# here f-string is used to format the string and print the variables in the string"
   ]
  },
  {
   "cell_type": "code",
   "execution_count": null,
   "id": "2aa1a56a",
   "metadata": {},
   "outputs": [],
   "source": []
  }
 ],
 "metadata": {
  "kernelspec": {
   "display_name": "base",
   "language": "python",
   "name": "python3"
  },
  "language_info": {
   "codemirror_mode": {
    "name": "ipython",
    "version": 3
   },
   "file_extension": ".py",
   "mimetype": "text/x-python",
   "name": "python",
   "nbconvert_exporter": "python",
   "pygments_lexer": "ipython3",
   "version": "3.11.7"
  }
 },
 "nbformat": 4,
 "nbformat_minor": 5
}
