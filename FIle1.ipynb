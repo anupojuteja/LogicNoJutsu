{
 "cells": [
  {
   "cell_type": "code",
   "execution_count": 2,
   "id": "981d4159",
   "metadata": {},
   "outputs": [
    {
     "name": "stdout",
     "output_type": "stream",
     "text": [
      "Negative number\n"
     ]
    }
   ],
   "source": [
    "# check if a number is positive or not\n",
    "\n",
    "num = float(input(\"Enter a number: \"))\n",
    "if num > 0:\n",
    "    print(\"Positive number\")\n",
    "elif num == 0:\n",
    "    print(\"Zero\")\n",
    "else:\n",
    "    print(\"Negative number\")            \n",
    "    \n",
    "    "
   ]
  },
  {
   "cell_type": "code",
   "execution_count": null,
   "id": "15930ebb",
   "metadata": {},
   "outputs": [],
   "source": [
    "#condiitional statements\n",
    "a = 33\n",
    "b = 200\n",
    "if b > a:\n",
    "  print(\"b is greater than a\")\n",
    "  print(\"This is a conditional statement\")\n",
    "else:\n",
    "    print(\"a is greater than b\")\n",
    "    print(\"This is a conditional statement\")\n",
    "    "
   ]
  },
  {
   "cell_type": "code",
   "execution_count": 1,
   "id": "b109ab65",
   "metadata": {},
   "outputs": [
    {
     "name": "stdout",
     "output_type": "stream",
     "text": [
      " hai my name is teja and am from hyd\n"
     ]
    }
   ],
   "source": [
    "# variables with f-strings\n",
    "name = \"teja\"\n",
    "age =\"33\"\n",
    "adress = \"hyd\"\n",
    "print(f\" hai my name is {name} and am from {adress}\")"
   ]
  }
 ],
 "metadata": {
  "kernelspec": {
   "display_name": "base",
   "language": "python",
   "name": "python3"
  },
  "language_info": {
   "codemirror_mode": {
    "name": "ipython",
    "version": 3
   },
   "file_extension": ".py",
   "mimetype": "text/x-python",
   "name": "python",
   "nbconvert_exporter": "python",
   "pygments_lexer": "ipython3",
   "version": "3.11.7"
  }
 },
 "nbformat": 4,
 "nbformat_minor": 5
}
